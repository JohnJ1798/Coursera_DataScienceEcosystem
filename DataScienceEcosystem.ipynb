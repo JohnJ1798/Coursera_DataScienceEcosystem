{
 "cells": [
  {
   "cell_type": "markdown",
   "id": "e736742f-5b4e-4761-a1c7-e77c588f3c9d",
   "metadata": {},
   "source": [
    "# Data Science Tools and Ecosystem"
   ]
  },
  {
   "cell_type": "markdown",
   "id": "d14d0838-3bd6-42bf-813d-9ed7464b905f",
   "metadata": {},
   "source": [
    "In this notebook, Data Science Tools and Ecosystem are summarized."
   ]
  },
  {
   "cell_type": "markdown",
   "id": "07a9a810-18e7-4a3f-9572-cdd241f6d923",
   "metadata": {},
   "source": [
    "**Objectives:**\n",
    "* List popular languages for Data Science\n",
    "* List popular libraries for Data Science\n",
    "* List popular tools for Data Science\n",
    "* Evaluate simple arithmetic expressions in Python\n",
    "* Convert units ( minutes to hours)"
   ]
  },
  {
   "cell_type": "markdown",
   "id": "74f471e0-3f82-4fbb-8498-a2a8cd029aac",
   "metadata": {},
   "source": [
    "Some of the popular languages that Data Scientists use are:\n",
    "1. Python\n",
    "2. R\n",
    "3. SQL\n",
    "4. Java\n",
    "5. Julia"
   ]
  },
  {
   "cell_type": "markdown",
   "id": "e6e47aac-e451-4fef-a572-14257d3bb94a",
   "metadata": {},
   "source": [
    "Some of the commonly used libraries used by Data Scientists include:\n",
    "1. Pandas\n",
    "2. NumPy\n",
    "3. Matplotlib\n",
    "4. Scikit-learn\n",
    "5. TensorFlow"
   ]
  },
  {
   "cell_type": "markdown",
   "id": "6a376b0e-9280-48c3-b4f2-a570a96253aa",
   "metadata": {},
   "source": [
    "| Data Science Tools |\n",
    "|--------------------|\n",
    "| Jupyter Notebook   |\n",
    "| RStudio            |\n",
    "| VS Code            |"
   ]
  },
  {
   "cell_type": "markdown",
   "id": "3509b652-0714-4a35-a18a-3a23187f233a",
   "metadata": {},
   "source": [
    "### Below are a few examples of evaluating arithmetic expressions in Python"
   ]
  },
  {
   "cell_type": "code",
   "execution_count": 4,
   "id": "0d6bf1f9-54ad-4257-9cfa-8c68f76bc18d",
   "metadata": {},
   "outputs": [
    {
     "data": {
      "text/plain": [
       "17"
      ]
     },
     "execution_count": 4,
     "metadata": {},
     "output_type": "execute_result"
    }
   ],
   "source": [
    "# This is a simple arithmetic expression to multiply then add integers.\n",
    "(3*4)+5"
   ]
  },
  {
   "cell_type": "code",
   "execution_count": 7,
   "id": "3ebd7999-10e2-4642-8586-97e326a7dd89",
   "metadata": {},
   "outputs": [
    {
     "name": "stdout",
     "output_type": "stream",
     "text": [
      "3.3333333333333335\n"
     ]
    }
   ],
   "source": [
    "# This will convert 200 minutes to hours by diving by 60. I know there are 60 minutes in an hour.\n",
    "print(200 / 60)"
   ]
  },
  {
   "cell_type": "markdown",
   "id": "1f4d4a9b-dd15-4401-badc-5c8ed3a72a92",
   "metadata": {},
   "source": [
    "## Author\n",
    "John Jacobson "
   ]
  },
  {
   "cell_type": "code",
   "execution_count": null,
   "id": "2955d2c7-5c55-4db7-8bf4-e80d2f31820a",
   "metadata": {},
   "outputs": [],
   "source": []
  }
 ],
 "metadata": {
  "kernelspec": {
   "display_name": "Python 3 (ipykernel)",
   "language": "python",
   "name": "python3"
  },
  "language_info": {
   "codemirror_mode": {
    "name": "ipython",
    "version": 3
   },
   "file_extension": ".py",
   "mimetype": "text/x-python",
   "name": "python",
   "nbconvert_exporter": "python",
   "pygments_lexer": "ipython3",
   "version": "3.13.5"
  }
 },
 "nbformat": 4,
 "nbformat_minor": 5
}
